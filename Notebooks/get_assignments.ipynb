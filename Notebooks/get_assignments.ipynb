{
 "cells": [
  {
   "cell_type": "code",
   "execution_count": 3,
   "metadata": {
    "collapsed": true
   },
   "outputs": [],
   "source": [
    "from scipy.cluster.vq import vq, whiten\n",
    "import matplotlib.pyplot as plt\n",
    "import sys\n",
    "from get_local_features import get_local_features\n",
    "from train_codebook import train_codebook\n",
    "\n",
    "sys.path.insert(0,'/home/oscarlinux/Escritorio/UPC/Q5/GDSA/Projecte/')"
   ]
  },
  {
   "cell_type": "code",
   "execution_count": 4,
   "metadata": {
    "collapsed": true
   },
   "outputs": [],
   "source": [
    "def get_assignments(codebook, descriptors):\n",
    "    \n",
    "    #norm_descriptores = whiten(descriptores) # Normaliza descriptores\n",
    "        #Con KMeans\n",
    "    #assignments,_ = vq(descriptores, codebook)\n",
    "    \n",
    "    #Con MiniBatchKMeans\n",
    "    assignments= codebook.predict(descriptors)\n",
    "    return assignments"
   ]
  },
  {
   "cell_type": "code",
   "execution_count": 6,
   "metadata": {
    "collapsed": false
   },
   "outputs": [
    {
     "name": "stdout",
     "output_type": "stream",
     "text": [
      "S'han creat: 563 descriptors per l'imatge \"../TerrassaBuildings900/train/images/aaeoeolbth.jpg\" amb 128 Keypoints per descriptor.\n",
      "S'han creat: 65 descriptors per l'imatge \"../TerrassaBuildings900/val/images/aalfirydrf.jpg\" amb 128 Keypoints per descriptor.\n",
      "[1 1 4 4 0 2 1 1 1 1 1 0 0 1 0 1 1 1 1 1 1 3 1 1 2 3 1 0 1 3 4 4 4 1 1 0 1\n",
      " 1 0 1 1 0 0 0 1 4 3 3 3 3 3 3 2 3 1 1 1 1 0 1 1 1 1 1 0]\n",
      "Longuitud del assignments= 65\n"
     ]
    }
   ],
   "source": [
    "descriptor1 = get_local_features(\"../TerrassaBuildings900/train/images/aaeoeolbth.jpg\")\n",
    "codebook = train_codebook(5, descriptor1)\n",
    "descriptor2 = get_local_features(\"../TerrassaBuildings900/val/images/aalfirydrf.jpg\")\n",
    "assig = get_assignments(codebook, descriptor2)\n",
    "\n",
    "print(assig)\n",
    "print (\"Longuitud del assignments= \" + str(len(assig)))"
   ]
  },
  {
   "cell_type": "code",
   "execution_count": null,
   "metadata": {
    "collapsed": true
   },
   "outputs": [],
   "source": []
  }
 ],
 "metadata": {
  "kernelspec": {
   "display_name": "Python 2",
   "language": "python",
   "name": "python2"
  },
  "language_info": {
   "codemirror_mode": {
    "name": "ipython",
    "version": 2
   },
   "file_extension": ".py",
   "mimetype": "text/x-python",
   "name": "python",
   "nbconvert_exporter": "python",
   "pygments_lexer": "ipython2",
   "version": "2.7.13"
  }
 },
 "nbformat": 4,
 "nbformat_minor": 2
}
