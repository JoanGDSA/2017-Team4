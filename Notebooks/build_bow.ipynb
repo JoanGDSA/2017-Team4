{
 "cells": [
  {
   "cell_type": "code",
   "execution_count": 3,
   "metadata": {
    "collapsed": false,
    "deletable": true,
    "editable": true
   },
   "outputs": [],
   "source": [
    "\n",
    "import matplotlib.pyplot as plt\n",
    "from train_codebook import train_codebook\n",
    "from get_local_features import get_local_features\n",
    "from scipy.cluster.vq import vq, kmeans, whiten\n",
    "import numpy as np\n",
    "import sys\n",
    "from sklearn.preprocessing import normalize, StandardScaler\n",
    "from get_assignments import get_assignments\n",
    "\n",
    "sys.path.insert(0,'/home/oscarlinux/Escritorio/UPC/Q5/GDSA/Projecte/')\n"
   ]
  },
  {
   "cell_type": "code",
   "execution_count": 4,
   "metadata": {
    "collapsed": true,
    "deletable": true,
    "editable": true
   },
   "outputs": [],
   "source": [
    "def build_bow(assignments, n):\n",
    "    \n",
    "     # Inicialitzem a zeros un vector de mida dels clusters\n",
    "    descriptor =np.zeros((n,))\n",
    "\n",
    "    # Construim un vector de repeticions.Cada assignments li atribuim un cluster\n",
    "    for n_assig in assignments:\n",
    "        descriptor[n_assig]+=1\n",
    "        \n",
    "    # L2 normalize\n",
    "    descriptor = normalize(descriptor)\n",
    "\n",
    "    return descriptor"
   ]
  },
  {
   "cell_type": "code",
   "execution_count": 8,
   "metadata": {
    "collapsed": false,
    "deletable": true,
    "editable": true,
    "scrolled": true
   },
   "outputs": [
    {
     "name": "stdout",
     "output_type": "stream",
     "text": [
      "S'han creat: 563 descriptors per l'imatge \"TerrassaBuildings900/train/images/aaeoeolbth.jpg\" amb 128 Keypoints per descriptor.\n",
      "S'han creat: 65 descriptors per l'imatge \"TerrassaBuildings900/val/images/aalfirydrf.jpg\" amb 128 Keypoints per descriptor.\n",
      "[[ 0.76921916  0.05494423  0.10988845  0.54944226  0.30219324  0.          0.\n",
      "   0.          0.          0.          0.          0.          0.          0.\n",
      "   0.          0.          0.          0.          0.          0.          0.\n",
      "   0.          0.          0.          0.          0.          0.          0.\n",
      "   0.          0.          0.          0.          0.          0.          0.\n",
      "   0.          0.          0.          0.          0.          0.          0.\n",
      "   0.          0.          0.          0.          0.          0.          0.\n",
      "   0.        ]]\n",
      "Numero de regiones diferentes: 1\n"
     ]
    },
    {
     "name": "stderr",
     "output_type": "stream",
     "text": [
      "/home/oscarlinux/.local/share/canopy/edm/envs/User/lib/python2.7/site-packages/sklearn/utils/validation.py:395: DeprecationWarning: Passing 1d arrays as data is deprecated in 0.17 and will raise ValueError in 0.19. Reshape your data either using X.reshape(-1, 1) if your data has a single feature or X.reshape(1, -1) if it contains a single sample.\n",
      "  DeprecationWarning)\n"
     ]
    }
   ],
   "source": [
    "descriptor1 = get_local_features(\"TerrassaBuildings900/train/images/aaeoeolbth.jpg\")\n",
    "codebook = train_codebook(5, descriptor1)\n",
    "descriptor2 = get_local_features(\"TerrassaBuildings900/val/images/aalfirydrf.jpg\")\n",
    "assig = get_assignments(codebook, descriptor2)\n",
    "\n",
    "#Crea un vector ordenat amb els descriptors que equival a cada regió (k=5)\n",
    "asdf= build_bow(assig,50)\n",
    "print asdf\n",
    "print (\"Numero de regiones diferentes: \" + str(len(asdf))) "
   ]
  },
  {
   "cell_type": "code",
   "execution_count": null,
   "metadata": {
    "collapsed": true,
    "deletable": true,
    "editable": true
   },
   "outputs": [],
   "source": []
  }
 ],
 "metadata": {
  "kernelspec": {
   "display_name": "Python 2",
   "language": "python",
   "name": "python2"
  },
  "language_info": {
   "codemirror_mode": {
    "name": "ipython",
    "version": 2
   },
   "file_extension": ".py",
   "mimetype": "text/x-python",
   "name": "python",
   "nbconvert_exporter": "python",
   "pygments_lexer": "ipython2",
   "version": "2.7.13"
  }
 },
 "nbformat": 4,
 "nbformat_minor": 2
}
