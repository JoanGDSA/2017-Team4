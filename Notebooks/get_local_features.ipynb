{
 "cells": [
  {
   "cell_type": "code",
   "execution_count": 1,
   "metadata": {
    "collapsed": true
   },
   "outputs": [],
   "source": [
    "import cv2\n",
    "import matplotlib as plt\n",
    "import sys\n",
    "\n",
    "sys.path.insert(0,'/home/oscarlinux/Escritorio/UPC/Q5/GDSA/Projecte/')"
   ]
  },
  {
   "cell_type": "code",
   "execution_count": 2,
   "metadata": {
    "collapsed": true
   },
   "outputs": [],
   "source": [
    "def get_local_features(imatge):\n",
    "    \n",
    "    # Altres possibles mètodes serien SURF o ORB, fins i tot el FASTSIFT.\n",
    "    img=cv2.imread(imatge)\n",
    "    sift = cv2.SIFT()\n",
    "    kp, des =sift.detectAndCompute(img, None) #kp= número de punts d'interes -- des= descriptors\n",
    "    #kp, des = orb.detectAndCompute(small,None) #kp= número de punts d'interes -- des= descriptors\n",
    "    print(\"S'han creat: \" + str(len(des)) + \" descriptors per l'imatge \" + \"\\\"\" + imatge+ \"\\\"\" + \" amb \"  + str(len(des[4])) + \" Keypoints per descriptor.\")\n",
    "    return des"
   ]
  },
  {
   "cell_type": "code",
   "execution_count": 4,
   "metadata": {
    "collapsed": false
   },
   "outputs": [
    {
     "name": "stdout",
     "output_type": "stream",
     "text": [
      "S'han creat: 563 descriptors per l'imatge \"../TerrassaBuildings900/train/images/aaeoeolbth.jpg\" amb 128 Keypoints per descriptor.\n"
     ]
    }
   ],
   "source": [
    "image= \"../TerrassaBuildings900/train/images/aaeoeolbth.jpg\"\n",
    "features= get_local_features(image)\n",
    "num_descript = len(features)\n",
    "key_points = len(features[4]) "
   ]
  },
  {
   "cell_type": "code",
   "execution_count": null,
   "metadata": {
    "collapsed": true
   },
   "outputs": [],
   "source": []
  }
 ],
 "metadata": {
  "kernelspec": {
   "display_name": "Python 2",
   "language": "python",
   "name": "python2"
  },
  "language_info": {
   "codemirror_mode": {
    "name": "ipython",
    "version": 2
   },
   "file_extension": ".py",
   "mimetype": "text/x-python",
   "name": "python",
   "nbconvert_exporter": "python",
   "pygments_lexer": "ipython2",
   "version": "2.7.13"
  }
 },
 "nbformat": 4,
 "nbformat_minor": 2
}
