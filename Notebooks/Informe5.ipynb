{
 "cells": [
  {
   "cell_type": "code",
   "execution_count": 1,
   "metadata": {
    "collapsed": true
   },
   "outputs": [],
   "source": [
    "import numpy as np\n",
    "import time\n",
    "from get_params import get_params\n",
    "from Bow_grafic import grafic\n",
    "from eval_rankings import eval_rankings\n",
    "import matplotlib.pyplot as plt\n",
    "params = get_params()\n"
   ]
  },
  {
   "cell_type": "code",
   "execution_count": null,
   "metadata": {
    "collapsed": true
   },
   "outputs": [],
   "source": [
    "params['descriptor_size'] = 1024\n",
    "mean=grafic(params,'train')\n",
    "meant=grafic(params,'val')\n",
    "llista1=[mean]\n",
    "llista2=[meant]\n",
    "    \n",
    "\n",
    "params['descriptor_size'] = 256\n",
    "mean=grafic(params,'train')\n",
    "meant=grafic(params,'val')\n",
    "llista1.append(mean)\n",
    "llista2.append(meant)\n",
    "    \n",
    "    \n",
    "size=[2561024]\n",
    "plt.plot(llista1,size)"
   ]
  },
  {
   "cell_type": "code",
   "execution_count": 2,
   "metadata": {
    "collapsed": false
   },
   "outputs": [
    {
     "name": "stdout",
     "output_type": "stream",
     "text": [
      "Precisió mitjana: 0.065711275006\n",
      "mercat_independencia: 0.0957759582797\n",
      "societat_general: 0.154648537702\n",
      "farmacia_albinyana: 0.129874496801\n",
      "ajuntament: 0.309916076641\n",
      "mnactec: 0.0980859076254\n",
      "escola_enginyeria: 0.192454232219\n",
      "masia_freixa: 0.0935167229049\n",
      "castell_cartoixa: 0.121832531274\n",
      "dona_treballadora: 0.0791211353576\n",
      "catedral: 0.154364180369\n",
      "teatre_principal: 0.11987882161\n",
      "estacio_nord: 0.11959778437\n"
     ]
    }
   ],
   "source": [
    "ap_list, dict_ = eval_rankings(params)\n",
    "print \"Precisió mitjana:\",np.mean(ap_list)\n",
    "\n",
    "for id in dict_.keys():\n",
    "    if not id == 'desconegut':\n",
    "         # We divide by 10 because it's the number of images per class in the validation set.\n",
    "        print id+\":\", dict_[id]/10"
   ]
  },
  {
   "cell_type": "code",
   "execution_count": null,
   "metadata": {
    "collapsed": true
   },
   "outputs": [],
   "source": []
  }
 ],
 "metadata": {
  "kernelspec": {
   "display_name": "Python 2",
   "language": "python",
   "name": "python2"
  },
  "language_info": {
   "codemirror_mode": {
    "name": "ipython",
    "version": 2
   },
   "file_extension": ".py",
   "mimetype": "text/x-python",
   "name": "python",
   "nbconvert_exporter": "python",
   "pygments_lexer": "ipython2",
   "version": "2.7.13"
  }
 },
 "nbformat": 4,
 "nbformat_minor": 2
}
