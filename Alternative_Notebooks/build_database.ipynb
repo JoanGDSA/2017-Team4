{
 "cells": [
  {
   "cell_type": "code",
   "execution_count": null,
   "metadata": {
    "collapsed": true
   },
   "outputs": [],
   "source": [
    "# -*- coding: utf-8 -*-\n",
    "\n",
    "import os\n",
    "import os.path as path\n",
    "import sys \n",
    "\n",
    "#sys.path.insert(0,'/home/oscarlinux/Escritorio/UPC/Q5/GDSA/Projecte/') # Creem el path a on hi han totes les subcarpetes\n",
    "dir = path.dirname(__file__)\n",
    "\n",
    "path_imagenes_train = \"../TB2016/train/images\" #Directori on hi ha les imatges d'entrenament\n",
    "path_imagenes_val = \"../TB2016/val/images\" #Directori on hi ha les imatges de validació\n",
    "dir_archivos_txt = \"../txt/\" # Directori on guardarem els fitxers txt amb les ID de les imatges\n",
    "\n",
    "def build_database(directori_imag, directori_txt, etiqueta):\n",
    "    imag_dir = os.listdir(directori_imag) #Assigna el nom de cada imatge al vector imag_dir\n",
    "    print(\"Archivos leidos del directorio (path absoluto): \" + os.path.abspath(directori_imag))\n",
    "    if not os.path.exists(dir_archivos_txt):\n",
    "        os.makedirs(dir_archivos_txt)\n",
    "\n",
    "    fichero_txt = open(directori_txt + 'ID_images_'+etiqueta+'.txt', 'w') # Obim el fitxer txt on guardarem les ID\n",
    "    for imagenes  in imag_dir: # Llegim el nom de les imatges del vector imag_dir\n",
    "        fichero_txt.write(imagenes[0:-4] + \"\\n\") # Escribim el nom de l'imatge sense jpg i el final de linea un ENTER\n",
    "\n",
    "# os.getcwd() # Aconseguim el directori actual \n",
    "\n",
    "build_database(path_imagenes_train, dir_archivos_txt, 'train') # Crida a la funció creada\n",
    "build_database(path_imagenes_val, dir_archivos_txt, 'val') # Crida a la funció creada "
   ]
  },
  {
   "cell_type": "markdown",
   "metadata": {},
   "source": []
  }
 ],
 "metadata": {
  "kernelspec": {
   "display_name": "Python 2",
   "language": "python",
   "name": "python2"
  },
  "language_info": {
   "codemirror_mode": {
    "name": "ipython",
    "version": 2
   },
   "file_extension": ".py",
   "mimetype": "text/x-python",
   "name": "python",
   "nbconvert_exporter": "python",
   "pygments_lexer": "ipython2",
   "version": "2.7.6"
  }
 },
 "nbformat": 4,
 "nbformat_minor": 0
}
