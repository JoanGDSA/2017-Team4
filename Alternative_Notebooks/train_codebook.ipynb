{
 "cells": [
  {
   "cell_type": "code",
   "execution_count": null,
   "metadata": {
    "collapsed": true
   },
   "outputs": [],
   "source": [
    "# -*- coding: utf-8 -*-\n",
    "from sklearn.cluster import MiniBatchKMeans\n",
    "from get_local_features import get_local_features\n",
    "import sys\n",
    "\n",
    "sys.path.insert(0,'./home/PycharmProjects/GDSA')\n",
    "\n",
    "\n",
    "def train_codebook(numClusters, descriptores): #Només para las imatges de train\n",
    "\n",
    "    \"\"\"Amb KMeans\n",
    "    centroides,_= kmeans(descriptores, numClusters)\"\"\"\n",
    "\n",
    "    #Amb MiniBatchKMeans (És més ràpid i més eficient que KMeans)\n",
    "    centroides= MiniBatchKMeans(numClusters)\n",
    "    centroides.fit(descriptores)\n",
    "\n",
    "    return centroides # retorna el vector codebook\n",
    "\n",
    "\n",
    "if __name__== \"__main__\":\n",
    "    # Es per comprovar que la funció és correcta\n",
    "    descriptors = get_local_features(\"../TB2016/train/images/aaeoeolbth.jpg\")\n",
    "    codebook1 = train_codebook(1, descriptors)"
   ]
  },
  {
   "cell_type": "markdown",
   "metadata": {},
   "source": [
    "Es tracta de la mateixa funció però amb relative paths"
   ]
  }
 ],
 "metadata": {
  "kernelspec": {
   "display_name": "Python 3",
   "language": "python",
   "name": "python3"
  },
  "language_info": {
   "codemirror_mode": {
    "name": "ipython",
    "version": 3
   },
   "file_extension": ".py",
   "mimetype": "text/x-python",
   "name": "python",
   "nbconvert_exporter": "python",
   "pygments_lexer": "ipython3",
   "version": "3.6.3"
  }
 },
 "nbformat": 4,
 "nbformat_minor": 1
}
