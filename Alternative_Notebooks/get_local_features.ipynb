{
 "cells": [
  {
   "cell_type": "code",
   "execution_count": null,
   "metadata": {
    "collapsed": true
   },
   "outputs": [],
   "source": [
    "# -*- coding: utf-8 -*-\n",
    "import cv2\n",
    "import matplotlib as plt\n",
    "import sys\n",
    "import os.path as path\n",
    "\n",
    "sys.path.insert(0,'./home/PycharmProjects/GDSA/')\n",
    "\n",
    "#dir = path.dirname(__file__)\n",
    "path_train = \"../TB2016/train/images\"\n",
    "path_val = \"../TB2016/val/images\"\n",
    "path_txt = \"../txt/\"\n",
    "sys.path.insert(0,dir)\n",
    "\n",
    "# Retorna els descriptors d'una imatge\n",
    "def get_local_features(imatge):\n",
    "    \n",
    "    # Altres possibles mètodes serien SURF o ORB, fins i tot el FASTSIFT.\n",
    "    img = cv2.imread(imatge)\n",
    "    sift = cv2.xfeatures2d.SIFT_create()\n",
    "    kp, des =sift.detectAndCompute(img, None) #kp= número de punts d'interes -- des= descriptors\n",
    "    #kp, des = orb.detectAndCompute(small,None) #kp= número de punts d'interes -- des= descriptors\n",
    "    print(\"S'han creat: \" + str(len(des)) + \" descriptors per l'imatge \" + \"\\\"\" + imatge + \"\\\"\" + \" amb \"  + str(len(des[4])) + \" Keypoints per descriptor.\")\n",
    "    return des\n",
    "\n",
    "if __name__ == \"__main__\":\n",
    "    # Aixó és per ensenyar que funciona\n",
    "    image= path.join(path_train,\"../aaeoeolbth.jpg\")\n",
    "    features= get_local_features(image)\n",
    "    num_descript = len(features)\n",
    "    key_points = len(features[4]) # tamaño de un vector del descriptor"
   ]
  },
  {
   "cell_type": "markdown",
   "metadata": {},
   "source": [
    "Es tracta de la mateixa funció però amb relative paths"
   ]
  }
 ],
 "metadata": {
  "kernelspec": {
   "display_name": "Python 3",
   "language": "python",
   "name": "python3"
  },
  "language_info": {
   "codemirror_mode": {
    "name": "ipython",
    "version": 3
   },
   "file_extension": ".py",
   "mimetype": "text/x-python",
   "name": "python",
   "nbconvert_exporter": "python",
   "pygments_lexer": "ipython3",
   "version": "3.6.3"
  }
 },
 "nbformat": 4,
 "nbformat_minor": 1
}
