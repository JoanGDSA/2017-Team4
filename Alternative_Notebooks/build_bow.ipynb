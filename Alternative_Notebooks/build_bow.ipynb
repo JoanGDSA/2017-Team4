{
 "cells": [
  {
   "cell_type": "code",
   "execution_count": null,
   "metadata": {
    "collapsed": true
   },
   "outputs": [],
   "source": [
    "from get_assignments import get_assignments\n",
    "import matplotlib.pyplot as plt\n",
    "from train_codebook import train_codebook\n",
    "from get_local_features import get_local_features\n",
    "from scipy.cluster.vq import vq, kmeans, whiten\n",
    "import numpy as np\n",
    "import sys\n",
    "from sklearn.preprocessing import normalize, StandardScaler\n",
    "import os.path as path\n",
    "\n",
    "#dir = sys.path.insert(0,'./home/PycharmProjects/GDSA/Projecte/')\n",
    "dir = path.dirname(__file__)\n",
    "\n",
    "#dir = sys.path.insert(0,__file__)\n",
    "terrassa_buildings = '../TB2016/'\n",
    "\n",
    "\n",
    "\n",
    "def build_bow(assignments, n):\n",
    "    # Inicialitzem a zeros un vector de mida dels clusters\n",
    "    descriptor = np.zeros((n,))\n",
    "\n",
    "    # Construim un vector de repeticions.Cada assignments li atribuim un cluster\n",
    "    for n_assig in assignments:\n",
    "        descriptor[n_assig] += 1\n",
    "\n",
    "    # L2 normalize\n",
    "    descriptor = normalize(descriptor)\n",
    "\n",
    "    return descriptor\n",
    "\n",
    "\n",
    "# Comprovem que funciona\n",
    "descriptor1 = get_local_features(path.join(terrassa_buildings, \"../train/images/aaeoeolbth.jpg\"))\n",
    "codebook = train_codebook(5, descriptor1)\n",
    "descriptor2 = get_local_features(path.join(terrassa_buildings, \"../val/images/aalfirydrf.jpg\"))\n",
    "assig = get_assignments(codebook, descriptor2)\n",
    "\n",
    "# Crea un vector ordenat amb els descriptors que equival a cada regio (k=5)\n",
    "asdf = build_bow(assig, 50)\n",
    "print asdf\n",
    "print (\"Numero de regiones diferentes: \" + str(len(asdf)))"
   ]
  },
  {
   "cell_type": "markdown",
   "metadata": {},
   "source": []
  }
 ],
 "metadata": {
  "kernelspec": {
   "display_name": "Python 2",
   "language": "python",
   "name": "python2"
  },
  "language_info": {
   "codemirror_mode": {
    "name": "ipython",
    "version": 2
   },
   "file_extension": ".py",
   "mimetype": "text/x-python",
   "name": "python",
   "nbconvert_exporter": "python",
   "pygments_lexer": "ipython2",
   "version": "2.7.6"
  }
 },
 "nbformat": 4,
 "nbformat_minor": 0
}
