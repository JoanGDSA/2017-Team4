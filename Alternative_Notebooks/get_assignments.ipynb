{
 "cells": [
  {
   "cell_type": "code",
   "execution_count": null,
   "metadata": {
    "collapsed": true
   },
   "outputs": [],
   "source": [
    "from train_codebook import train_codebook\n",
    "from get_local_features import get_local_features\n",
    "from scipy.cluster.vq import vq, whiten\n",
    "import matplotlib.pyplot as plt\n",
    "import sys\n",
    "import os.path as path\n",
    "\n",
    "#dir = sys.path.insert(0,'./home/PycharmProjects/GDSA/Projecte/')\n",
    "dir = path.dirname(__file__)\n",
    "\n",
    "#dir = sys.path.insert(0,__file__)\n",
    "\n",
    "\n",
    "def get_assignments(codebook, descriptors):\n",
    "\n",
    "    #norm_descriptores = whiten(descriptores) # Normaliza descriptores\n",
    "        #Con KMeans\n",
    "    #assignments,_ = vq(descriptores, codebook)\n",
    "\n",
    "    #Con MiniBatchKMeans\n",
    "    assignments= codebook.predict(descriptors)\n",
    "    return assignments\n",
    "\n",
    "\n",
    "if __name__== \"__main__\":\n",
    "\n",
    "    descriptor1 = get_local_features(\"TerrassaBuildings900/train/images/aaeoeolbth.jpg\")\n",
    "    codebook = train_codebook(5, descriptor1)\n",
    "    descriptor2 = get_local_features(\"TerrassaBuildings900/val/images/aalfirydrf.jpg\")\n",
    "    assig = get_assignments(codebook, descriptor2)\n",
    "\n",
    "    print(assig)\n",
    "    print \"Longitud del assignments= \" + str(len(assig))\n",
    "    \n",
    "\n"
   ]
  },
  {
   "cell_type": "markdown",
   "metadata": {},
   "source": []
  }
 ],
 "metadata": {
  "kernelspec": {
   "display_name": "Python 2",
   "language": "python",
   "name": "python2"
  },
  "language_info": {
   "codemirror_mode": {
    "name": "ipython",
    "version": 2
   },
   "file_extension": ".py",
   "mimetype": "text/x-python",
   "name": "python",
   "nbconvert_exporter": "python",
   "pygments_lexer": "ipython2",
   "version": "2.7.6"
  }
 },
 "nbformat": 4,
 "nbformat_minor": 0
}
