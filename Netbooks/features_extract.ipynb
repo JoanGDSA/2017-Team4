{
 "cells": [
  {
   "cell_type": "code",
   "execution_count": 1,
   "metadata": {
    "collapsed": true
   },
   "outputs": [],
   "source": [
    "from get_assignments import get_assignments\n",
    "from train_codebook import train_codebook\n",
    "from get_local_features import get_local_features\n",
    "from build_bow import build_bow\n",
    "from sklearn.preprocessing import normalize\n",
    "\n",
    "import numpy as np\n",
    "import warnings\n",
    "import sys\n",
    "import pickle\n",
    "\n",
    "warnings.filterwarnings(\"ignore\")\n",
    "sys.path.insert(0,'/home/oscarlinux/Escritorio/UPC/Q5/GDSA/Projecte/')\n",
    "path_imagenes_train = \"TerrassaBuildings900/train/images\" #Directori on hi ha les imatges d'entrenament\n",
    "path_imagenes_val = \"TerrassaBuildings900/val/images\" #Directori on hi ha les imatges de validació"
   ]
  },
  {
   "cell_type": "code",
   "execution_count": 2,
   "metadata": {
    "collapsed": true
   },
   "outputs": [],
   "source": [
    "def feature_extract (db_train, db_val,valortrain):\n",
    "    if valortrain == 'train':\n",
    "        fitxer=db_train\n",
    "    else:\n",
    "        fitxer=db_val\n",
    "        \n",
    "    with open(fitxer,'r') as f:\n",
    "        image_list=f.readlines()\n",
    "       # Inicialitzem el diccionari features\n",
    "    features={}\n",
    "    #num_clusters\n",
    "    n_clusters=1024\n",
    "    # Si guardessim el codebook el carragariem aqui\n",
    "    # km = pickle.load(open(\"txt/codebook.cb\",\"rb\"))\n",
    "    for image_name in image_list:\n",
    "        image_name=image_name.replace('\\n','')\n",
    "        # Ara llegim l'imatge \n",
    "        nom=path_imagenes_train+'/'+image_name+'.jpg'\n",
    "        feats=get_local_features(nom)\n",
    "        if feats is not None:\n",
    "            if False:\n",
    "                feats=normalize(feats)                \n",
    "                codebook=train_codebook(n_clusters, feats)\n",
    "                #Calculem els assignments\n",
    "                assignments=get_assignments(codebook,feats)\n",
    "                #Calculem el Bag of Words (BoW)\n",
    "                feats=build_bow(assignments,codebook)\n",
    "            else:\n",
    "            #Si els features estan buits\n",
    "                feats=np.zeros(n_clusters)\n",
    "            #Afegim l'entrada al diccionari\n",
    "                features[image_name]=feats\n",
    "            # Creem un directori a on guardarem el diccionari\n",
    "            if valortrain== \"train\":\n",
    "                pickle.dump(features, open(\"txt/bow_train.p\", \"wb\" ))\n",
    "                print (\"Diccionari train creat \\n\" )\n",
    "            else:\n",
    "                \n",
    "                pickle.dump(features, open(\"txt/bow_val.p\", \"wb\" ) )\n",
    "                print (\"Diccionari validació creat \\n\")"
   ]
  },
  {
   "cell_type": "code",
   "execution_count": 4,
   "metadata": {
    "collapsed": false
   },
   "outputs": [
    {
     "name": "stdout",
     "output_type": "stream",
     "text": [
      "S'han creat: 771 descriptors per l'imatge \"TerrassaBuildings900/train/images/tqkfpzsnqy.jpg\" amb 128 Keypoints per descriptor.\n",
      "Diccionari train creat \n",
      "\n",
      "S'han creat: 910 descriptors per l'imatge \"TerrassaBuildings900/train/images/mylmaxespr.jpg\" amb 128 Keypoints per descriptor.\n",
      "Diccionari train creat \n",
      "\n"
     ]
    },
    {
     "ename": "KeyboardInterrupt",
     "evalue": "",
     "output_type": "error",
     "traceback": [
      "\u001b[0;31m\u001b[0m",
      "\u001b[0;31mKeyboardInterrupt\u001b[0mTraceback (most recent call last)",
      "\u001b[0;32m<ipython-input-4-87596ea092fa>\u001b[0m in \u001b[0;36m<module>\u001b[0;34m()\u001b[0m\n\u001b[0;32m----> 1\u001b[0;31m \u001b[0mfeature_extract\u001b[0m\u001b[0;34m(\u001b[0m\u001b[0;34m\"txt/ID_images_train.txt\"\u001b[0m\u001b[0;34m,\u001b[0m \u001b[0;34m\"txt/ID_images_val.txt\"\u001b[0m\u001b[0;34m,\u001b[0m \u001b[0;34m\"train\"\u001b[0m\u001b[0;34m)\u001b[0m\u001b[0;34m\u001b[0m\u001b[0m\n\u001b[0m",
      "\u001b[0;32m<ipython-input-2-b10348f0137a>\u001b[0m in \u001b[0;36mfeature_extract\u001b[0;34m(db_train, db_val, valortrain)\u001b[0m\n\u001b[1;32m     17\u001b[0m         \u001b[0;31m# Ara llegim l'imatge\u001b[0m\u001b[0;34m\u001b[0m\u001b[0;34m\u001b[0m\u001b[0m\n\u001b[1;32m     18\u001b[0m         \u001b[0mnom\u001b[0m\u001b[0;34m=\u001b[0m\u001b[0mpath_imagenes_train\u001b[0m\u001b[0;34m+\u001b[0m\u001b[0;34m'/'\u001b[0m\u001b[0;34m+\u001b[0m\u001b[0mimage_name\u001b[0m\u001b[0;34m+\u001b[0m\u001b[0;34m'.jpg'\u001b[0m\u001b[0;34m\u001b[0m\u001b[0m\n\u001b[0;32m---> 19\u001b[0;31m         \u001b[0mfeats\u001b[0m\u001b[0;34m=\u001b[0m\u001b[0mget_local_features\u001b[0m\u001b[0;34m(\u001b[0m\u001b[0mnom\u001b[0m\u001b[0;34m)\u001b[0m\u001b[0;34m\u001b[0m\u001b[0m\n\u001b[0m\u001b[1;32m     20\u001b[0m         \u001b[0;32mif\u001b[0m \u001b[0mfeats\u001b[0m \u001b[0;32mis\u001b[0m \u001b[0;32mnot\u001b[0m \u001b[0mNone\u001b[0m\u001b[0;34m:\u001b[0m\u001b[0;34m\u001b[0m\u001b[0m\n\u001b[1;32m     21\u001b[0m             \u001b[0;32mif\u001b[0m \u001b[0mFalse\u001b[0m\u001b[0;34m:\u001b[0m\u001b[0;34m\u001b[0m\u001b[0m\n",
      "\u001b[0;32m/home/oscarlinux/Escritorio/UPC/Q5/GDSA/Projecte/get_local_features.pyc\u001b[0m in \u001b[0;36mget_local_features\u001b[0;34m(imatge)\u001b[0m\n\u001b[1;32m     12\u001b[0m     \u001b[0mimg\u001b[0m\u001b[0;34m=\u001b[0m\u001b[0mcv2\u001b[0m\u001b[0;34m.\u001b[0m\u001b[0mimread\u001b[0m\u001b[0;34m(\u001b[0m\u001b[0mimatge\u001b[0m\u001b[0;34m)\u001b[0m\u001b[0;34m\u001b[0m\u001b[0m\n\u001b[1;32m     13\u001b[0m     \u001b[0msift\u001b[0m \u001b[0;34m=\u001b[0m \u001b[0mcv2\u001b[0m\u001b[0;34m.\u001b[0m\u001b[0mSIFT\u001b[0m\u001b[0;34m(\u001b[0m\u001b[0;34m)\u001b[0m\u001b[0;34m\u001b[0m\u001b[0m\n\u001b[0;32m---> 14\u001b[0;31m     \u001b[0mkp\u001b[0m\u001b[0;34m,\u001b[0m \u001b[0mdes\u001b[0m \u001b[0;34m=\u001b[0m\u001b[0msift\u001b[0m\u001b[0;34m.\u001b[0m\u001b[0mdetectAndCompute\u001b[0m\u001b[0;34m(\u001b[0m\u001b[0mimg\u001b[0m\u001b[0;34m,\u001b[0m \u001b[0mNone\u001b[0m\u001b[0;34m)\u001b[0m \u001b[0;31m#kp= número de punts d'interes -- des= descriptors\u001b[0m\u001b[0;34m\u001b[0m\u001b[0m\n\u001b[0m\u001b[1;32m     15\u001b[0m     \u001b[0;31m#kp, des = orb.detectAndCompute(small,None) #kp= número de punts d'interes -- des= descriptors\u001b[0m\u001b[0;34m\u001b[0m\u001b[0;34m\u001b[0m\u001b[0m\n\u001b[1;32m     16\u001b[0m     \u001b[0;32mprint\u001b[0m\u001b[0;34m(\u001b[0m\u001b[0;34m\"S'han creat: \"\u001b[0m \u001b[0;34m+\u001b[0m \u001b[0mstr\u001b[0m\u001b[0;34m(\u001b[0m\u001b[0mlen\u001b[0m\u001b[0;34m(\u001b[0m\u001b[0mdes\u001b[0m\u001b[0;34m)\u001b[0m\u001b[0;34m)\u001b[0m \u001b[0;34m+\u001b[0m \u001b[0;34m\" descriptors per l'imatge \"\u001b[0m \u001b[0;34m+\u001b[0m \u001b[0;34m\"\\\"\"\u001b[0m \u001b[0;34m+\u001b[0m \u001b[0mimatge\u001b[0m\u001b[0;34m+\u001b[0m \u001b[0;34m\"\\\"\"\u001b[0m \u001b[0;34m+\u001b[0m \u001b[0;34m\" amb \"\u001b[0m  \u001b[0;34m+\u001b[0m \u001b[0mstr\u001b[0m\u001b[0;34m(\u001b[0m\u001b[0mlen\u001b[0m\u001b[0;34m(\u001b[0m\u001b[0mdes\u001b[0m\u001b[0;34m[\u001b[0m\u001b[0;36m4\u001b[0m\u001b[0;34m]\u001b[0m\u001b[0;34m)\u001b[0m\u001b[0;34m)\u001b[0m \u001b[0;34m+\u001b[0m \u001b[0;34m\" Keypoints per descriptor.\"\u001b[0m\u001b[0;34m)\u001b[0m\u001b[0;34m\u001b[0m\u001b[0m\n",
      "\u001b[0;31mKeyboardInterrupt\u001b[0m: "
     ]
    }
   ],
   "source": [
    "feature_extract(\"txt/ID_images_train.txt\", \"txt/ID_images_val.txt\", \"train\")"
   ]
  },
  {
   "cell_type": "code",
   "execution_count": null,
   "metadata": {
    "collapsed": true
   },
   "outputs": [],
   "source": [
    "# Com podem veure el programa funciona. L'error és degut a que nosaltres hem pausat el programa. "
   ]
  }
 ],
 "metadata": {
  "kernelspec": {
   "display_name": "Python 2",
   "language": "python",
   "name": "python2"
  },
  "language_info": {
   "codemirror_mode": {
    "name": "ipython",
    "version": 2
   },
   "file_extension": ".py",
   "mimetype": "text/x-python",
   "name": "python",
   "nbconvert_exporter": "python",
   "pygments_lexer": "ipython2",
   "version": "2.7.13"
  }
 },
 "nbformat": 4,
 "nbformat_minor": 2
}
