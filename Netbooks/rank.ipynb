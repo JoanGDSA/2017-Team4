{
 "cells": [
  {
   "cell_type": "heading",
   "metadata": {
    "collapsed": true
   },
   "level": 1,
   "source": []
  },
  {
   "cell_type": "code",
   "execution_count": null,
   "metadata": {},
   "outputs": [],
   "source": [
    "# -*- coding: utf-8 -*-\n",
    "import os\n",
    "import pickle\n",
    "import os.path as path\n",
    "import numpy as np\n",
    "from sklearn.metrics import pairwise_distances\n",
    "\n",
    "def rank(train_bow_path, val_bow_path, results_dir, annotation_path):\n",
    "\n",
    "    train_bow = pickle.load( open(train_bow_path, \"r\") )\n",
    "    val_bow = pickle.load( open(val_bow_path, \"r\") )\n",
    "    \n",
    "\n",
    "    # Creamos el directorio si no existe\n",
    "    if not os.path.exists(results_dir):\n",
    "        os.makedirs(results_dir)\n",
    "    i=0\n",
    "    annotations= open(annotation_path, \"r\")\n",
    "    for val_id, val_key in val_bow.items():\n",
    "        annotations.seek(0)\n",
    "        rank= {}\n",
    "        for line in annotations:\n",
    "            rec= line.split(\"\\t\")\n",
    "            print rec[0] + \" = \" + val_id + \"\\n\"\n",
    "            print rec[1]\n",
    "            if rec[0]== val_id and rec[1]!= \"desconegut\\n\":\n",
    "                for train_id, train_key in train_bow.items():\n",
    "                    rank[train_id]= pairwise_distances(val_key, train_key, metric='euclidean', n_jobs=1)\n",
    "                rank_file= open(results_dir + \"/rank_\" + val_id + \".txt\", 'w')\n",
    "                for k, v in sorted(rank.items(), key=lambda (k,v ): (v,k) ):\n",
    "                    rank_file.write(k)\n",
    "                    rank_file.write(\"\\n\")\n",
    "                rank_file.close()\n",
    "\n",
    "# Ejecutamos\n",
    "if __name__==\"__main__\":\n",
    "    rank(\"../txt/bow_train.p\", \"../txt/bow_val.p\", \"../rank/\", \"../TB2016/val/annotation.txt\")\n"
   ]
  }
 ],
 "metadata": {
  "kernelspec": {
   "display_name": "Python 2",
   "language": "python",
   "name": "python2"
  },
  "language_info": {
   "codemirror_mode": {
    "name": "ipython",
    "version": 2
   },
   "file_extension": ".py",
   "mimetype": "text/x-python",
   "name": "python",
   "nbconvert_exporter": "python",
   "pygments_lexer": "ipython2",
   "version": "2.7.6"
  }
 },
 "nbformat": 4,
 "nbformat_minor": 0
}
