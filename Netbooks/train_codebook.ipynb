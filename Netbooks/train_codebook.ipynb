{
 "cells": [
  {
   "cell_type": "code",
   "execution_count": 4,
   "metadata": {
    "collapsed": true
   },
   "outputs": [],
   "source": [
    "from sklearn.cluster import MiniBatchKMeans\n",
    "from get_local_features import get_local_features\n",
    "import sys\n",
    "\n",
    "sys.path.insert(0,'/home/oscarlinux/Escritorio/UPC/Q5/GDSA/Projecte/')"
   ]
  },
  {
   "cell_type": "code",
   "execution_count": 8,
   "metadata": {
    "collapsed": true
   },
   "outputs": [],
   "source": [
    "def train_codebook(numClusters, descriptores): #Només para las imatges de train\n",
    "\n",
    "    \"\"\"Amb KMeans\n",
    "    centroides,_= kmeans(descriptores, numClusters)\"\"\"\n",
    "\n",
    "    #Amb MiniBatchKMeans (És més ràpid i més eficient que KMeans)\n",
    "    centroides= MiniBatchKMeans(numClusters)\n",
    "    centroides.fit(descriptores)\n",
    "    print(\"Centroides calculats\")\n",
    "    # Si guardessim el codebook\n",
    "    #pickle.dump(centroides,open(\"txt/codebook.cb\", \"wb\"))\n",
    "    return centroides # retorna el vector codebook\n"
   ]
  },
  {
   "cell_type": "code",
   "execution_count": 9,
   "metadata": {
    "collapsed": false
   },
   "outputs": [
    {
     "name": "stdout",
     "output_type": "stream",
     "text": [
      "S'han creat: 563 descriptors per l'imatge \"../TerrassaBuildings900/train/images/aaeoeolbth.jpg\" amb 128 Keypoints per descriptor.\n",
      "Centroides calculats\n"
     ]
    }
   ],
   "source": [
    "descriptors = get_local_features(\"../TerrassaBuildings900/train/images/aaeoeolbth.jpg\")\n",
    "codebook1 = train_codebook(1, descriptors) "
   ]
  },
  {
   "cell_type": "code",
   "execution_count": null,
   "metadata": {
    "collapsed": true
   },
   "outputs": [],
   "source": []
  }
 ],
 "metadata": {
  "kernelspec": {
   "display_name": "Python 2",
   "language": "python",
   "name": "python2"
  },
  "language_info": {
   "codemirror_mode": {
    "name": "ipython",
    "version": 2
   },
   "file_extension": ".py",
   "mimetype": "text/x-python",
   "name": "python",
   "nbconvert_exporter": "python",
   "pygments_lexer": "ipython2",
   "version": "2.7.13"
  }
 },
 "nbformat": 4,
 "nbformat_minor": 2
}
